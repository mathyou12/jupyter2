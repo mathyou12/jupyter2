{
 "cells": [
  {
   "cell_type": "code",
   "execution_count": 2,
   "id": "2d084dde-7046-432b-b587-a6d596b0b4d4",
   "metadata": {},
   "outputs": [
    {
     "name": "stderr",
     "output_type": "stream",
     "text": [
      "C:\\Users\\mathew.j\\AppData\\Local\\Temp\\ipykernel_13880\\1826327463.py:4: DtypeWarning: Columns (0,3,4,5,9) have mixed types. Specify dtype option on import or set low_memory=False.\n",
      "  athlete_events_df = pd.read_csv('athlete_events.csv', on_bad_lines='skip')\n"
     ]
    },
    {
     "name": "stdout",
     "output_type": "stream",
     "text": [
      "Athlete Events Data:\n",
      "  ID                      Name Sex Age Height Weight            Team  NOC  \\\n",
      "0  1                 A Dijiang   M  24    180     80           China  CHN   \n",
      "1  2                  A Lamusi   M  23    170     60           China  CHN   \n",
      "2  3       Gunnar Nielsen Aaby   M  24    NaN    NaN         Denmark  DEN   \n",
      "3  4      Edgar Lindenau Aabye   M  34    NaN    NaN  Denmark/Sweden  DEN   \n",
      "4  5  Christine Jacoba Aaftink   F  21    185     82     Netherlands  NED   \n",
      "\n",
      "         Games  Year  Season       City          Sport  \\\n",
      "0  1992 Summer  1992  Summer  Barcelona     Basketball   \n",
      "1  2012 Summer  2012  Summer     London           Judo   \n",
      "2  1920 Summer  1920  Summer  Antwerpen       Football   \n",
      "3  1900 Summer  1900  Summer      Paris     Tug-Of-War   \n",
      "4  1988 Winter  1988  Winter    Calgary  Speed Skating   \n",
      "\n",
      "                              Event Medal  \n",
      "0       Basketball Men's Basketball   NaN  \n",
      "1      Judo Men's Extra-Lightweight   NaN  \n",
      "2           Football Men's Football   NaN  \n",
      "3       Tug-Of-War Men's Tug-Of-War  Gold  \n",
      "4  Speed Skating Women's 500 metres   NaN  \n",
      "\n",
      "NOC Regions Data:\n",
      "   NOC       region                 notes\n",
      "0  AFG  Afghanistan                   NaN\n",
      "1  AHO      Curacao  Netherlands Antilles\n",
      "2  ALB      Albania                   NaN\n",
      "3  ALG      Algeria                   NaN\n",
      "4  AND      Andorra                   NaN\n"
     ]
    }
   ],
   "source": [
    "import pandas as pd\n",
    "\n",
    "# Load the CSV files while skipping bad lines\n",
    "athlete_events_df = pd.read_csv('athlete_events.csv', on_bad_lines='skip')\n",
    "noc_regions_df = pd.read_csv('noc_regions.csv')\n",
    "\n",
    "# Display the first few rows of each file\n",
    "print(\"Athlete Events Data:\")\n",
    "print(athlete_events_df.head())\n",
    "\n",
    "print(\"\\nNOC Regions Data:\")\n",
    "print(noc_regions_df.head())\n"
   ]
  },
  {
   "cell_type": "code",
   "execution_count": 3,
   "id": "99503680-b56c-4e59-970e-8299e6fbff74",
   "metadata": {},
   "outputs": [
    {
     "name": "stdout",
     "output_type": "stream",
     "text": [
      "<class 'pandas.core.frame.DataFrame'>\n",
      "RangeIndex: 528320 entries, 0 to 528319\n",
      "Data columns (total 15 columns):\n",
      " #   Column  Non-Null Count   Dtype \n",
      "---  ------  --------------   ----- \n",
      " 0   ID      528319 non-null  object\n",
      " 1   Name    528319 non-null  object\n",
      " 2   Sex     528315 non-null  object\n",
      " 3   Age     509995 non-null  object\n",
      " 4   Height  411025 non-null  object\n",
      " 5   Weight  405731 non-null  object\n",
      " 6   Team    528309 non-null  object\n",
      " 7   NOC     528306 non-null  object\n",
      " 8   Games   528306 non-null  object\n",
      " 9   Year    528302 non-null  object\n",
      " 10  Season  528301 non-null  object\n",
      " 11  City    528300 non-null  object\n",
      " 12  Sport   528300 non-null  object\n",
      " 13  Event   528296 non-null  object\n",
      " 14  Medal   77800 non-null   object\n",
      "dtypes: object(15)\n",
      "memory usage: 60.5+ MB\n",
      "None\n",
      "<class 'pandas.core.frame.DataFrame'>\n",
      "RangeIndex: 230 entries, 0 to 229\n",
      "Data columns (total 3 columns):\n",
      " #   Column  Non-Null Count  Dtype \n",
      "---  ------  --------------  ----- \n",
      " 0   NOC     230 non-null    object\n",
      " 1   region  227 non-null    object\n",
      " 2   notes   21 non-null     object\n",
      "dtypes: object(3)\n",
      "memory usage: 5.5+ KB\n",
      "None\n"
     ]
    }
   ],
   "source": [
    "# Inspect the data structure\n",
    "print(athlete_events_df.info())  # Check for missing values and data types\n",
    "print(noc_regions_df.info())  # Check for missing values and data types"
   ]
  },
  {
   "cell_type": "code",
   "execution_count": 4,
   "id": "ed5dab2d-be7f-4259-818b-247a1bda6ce7",
   "metadata": {},
   "outputs": [
    {
     "name": "stderr",
     "output_type": "stream",
     "text": [
      "C:\\Users\\mathew.j\\AppData\\Local\\Temp\\ipykernel_13880\\415887707.py:4: DtypeWarning: Columns (0,3,4,5,9) have mixed types. Specify dtype option on import or set low_memory=False.\n",
      "  athlete_events_df = pd.read_csv('athlete_events.csv', on_bad_lines='skip')\n"
     ]
    },
    {
     "name": "stdout",
     "output_type": "stream",
     "text": [
      "Missing Values in athlete_events_df:\n",
      "ID             1\n",
      "Name           1\n",
      "Sex            5\n",
      "Age        18325\n",
      "Height    117295\n",
      "Weight    122589\n",
      "Team          11\n",
      "NOC           14\n",
      "Games         14\n",
      "Year          18\n",
      "Season        19\n",
      "City          20\n",
      "Sport         20\n",
      "Event         24\n",
      "Medal     450520\n",
      "dtype: int64\n",
      "\n",
      "Missing Values in noc_regions_df:\n",
      "NOC         0\n",
      "region      3\n",
      "notes     209\n",
      "dtype: int64\n"
     ]
    },
    {
     "name": "stderr",
     "output_type": "stream",
     "text": [
      "C:\\Users\\mathew.j\\AppData\\Local\\Temp\\ipykernel_13880\\415887707.py:20: FutureWarning: A value is trying to be set on a copy of a DataFrame or Series through chained assignment using an inplace method.\n",
      "The behavior will change in pandas 3.0. This inplace method will never work because the intermediate object on which we are setting values always behaves as a copy.\n",
      "\n",
      "For example, when doing 'df[col].method(value, inplace=True)', try using 'df.method({col: value}, inplace=True)' or df[col] = df[col].method(value) instead, to perform the operation inplace on the original object.\n",
      "\n",
      "\n",
      "  athlete_events_df['Medal'].fillna('None', inplace=True)\n"
     ]
    }
   ],
   "source": [
    "import pandas as pd\n",
    "\n",
    "# Load the CSV files\n",
    "athlete_events_df = pd.read_csv('athlete_events.csv', on_bad_lines='skip')\n",
    "noc_regions_df = pd.read_csv('noc_regions.csv')\n",
    "\n",
    "# Step 1: Check for missing values\n",
    "print(\"Missing Values in athlete_events_df:\")\n",
    "print(athlete_events_df.isnull().sum())\n",
    "\n",
    "print(\"\\nMissing Values in noc_regions_df:\")\n",
    "print(noc_regions_df.isnull().sum())\n",
    "\n",
    "# Step 2: Drop or fill missing values\n",
    "# Dropping rows with missing values in critical columns (e.g., NOC in athlete_events_df)\n",
    "athlete_events_df = athlete_events_df.dropna(subset=['NOC', 'Name', 'Sex'])\n",
    "noc_regions_df = noc_regions_df.dropna(subset=['NOC', 'region'])\n",
    "\n",
    "# Filling other columns if needed, e.g., filling missing 'Medal' values with 'None'\n",
    "athlete_events_df['Medal'].fillna('None', inplace=True)\n",
    "\n",
    "# Step 3: Check for duplicates and remove them\n",
    "athlete_events_df = athlete_events_df.drop_duplicates()\n",
    "noc_regions_df = noc_regions_df.drop_duplicates()\n",
    "\n",
    "# Step 4: Standardize column names (making lowercase and removing extra spaces)\n",
    "athlete_events_df.columns = athlete_events_df.columns.str.lower().str.strip()\n",
    "noc_regions_df.columns = noc_regions_df.columns.str.lower().str.strip()\n",
    "\n",
    "# Step 5: Convert data types (e.g., Age and Year to integer if no nulls)\n",
    "athlete_events_df['age'] = pd.to_numeric(athlete_events_df['age'], errors='coerce')\n",
    "athlete_events_df['year'] = pd.to_numeric(athlete_events_df['year'], errors='coerce')\n",
    "athlete_events_df['height'] = pd.to_numeric(athlete_events_df['height'], errors='coerce')\n",
    "athlete_events_df['weight'] = pd.to_numeric(athlete_events_df['weight'], errors='coerce')\n",
    "\n",
    "# Step 6: Validate data ranges (e.g., age should be positive, medals should be valid)\n",
    "athlete_events_df = athlete_events_df[athlete_events_df['age'] > 0]\n",
    "athlete_events_df = athlete_events_df[athlete_events_df['weight'] > 0]\n",
    "\n"
   ]
  },
  {
   "cell_type": "code",
   "execution_count": 5,
   "id": "20901aac-1f71-4c29-ab03-50d826cb44f1",
   "metadata": {},
   "outputs": [
    {
     "name": "stdout",
     "output_type": "stream",
     "text": [
      "Missing Values in athlete_events_df:\n",
      "ID             1\n",
      "Name           1\n",
      "Sex            5\n",
      "Age        18325\n",
      "Height    117295\n",
      "Weight    122589\n",
      "Team          11\n",
      "NOC           14\n",
      "Games         14\n",
      "Year          18\n",
      "Season        19\n",
      "City          20\n",
      "Sport         20\n",
      "Event         24\n",
      "Medal     450520\n",
      "dtype: int64\n",
      "\n",
      "Missing Values in noc_regions_df:\n",
      "NOC         0\n",
      "region      3\n",
      "notes     209\n",
      "dtype: int64\n"
     ]
    }
   ],
   "source": [
    "import pandas as pd\n",
    "\n",
    "# Load the CSV files with low_memory=False and specify dtype where possible\n",
    "athlete_events_df = pd.read_csv(\n",
    "    'athlete_events.csv', \n",
    "    on_bad_lines='skip', \n",
    "    low_memory=False\n",
    ")\n",
    "noc_regions_df = pd.read_csv('noc_regions.csv')\n",
    "\n",
    "# Step 1: Check for missing values\n",
    "print(\"Missing Values in athlete_events_df:\")\n",
    "print(athlete_events_df.isnull().sum())\n",
    "\n",
    "print(\"\\nMissing Values in noc_regions_df:\")\n",
    "print(noc_regions_df.isnull().sum())\n",
    "\n",
    "# Step 2: Drop or fill missing values\n",
    "# Drop rows with missing values in critical columns in athlete_events_df\n",
    "athlete_events_df.dropna(subset=['NOC', 'Name', 'Sex'], inplace=True)\n",
    "noc_regions_df.dropna(subset=['NOC', 'region'], inplace=True)\n",
    "\n",
    "# Filling non-critical columns with default values if necessary\n",
    "athlete_events_df['Medal'] = athlete_events_df['Medal'].fillna('None')\n",
    "athlete_events_df['Height'] = pd.to_numeric(athlete_events_df['Height'], errors='coerce').fillna(0)\n",
    "athlete_events_df['Weight'] = pd.to_numeric(athlete_events_df['Weight'], errors='coerce').fillna(0)\n",
    "athlete_events_df['Age'] = pd.to_numeric(athlete_events_df['Age'], errors='coerce').fillna(0).astype(int)\n",
    "\n",
    "# Fill missing values in noc_regions_df, if any critical columns were not affected\n",
    "noc_regions_df['notes'] = noc_regions_df['notes'].fillna(\"No Notes\")\n",
    "\n",
    "# Step 3: Check for duplicates and remove them\n",
    "athlete_events_df.drop_duplicates(inplace=True)\n",
    "noc_regions_df.drop_duplicates(inplace=True)\n",
    "\n",
    "# Step 4: Standardize column names (making lowercase and removing extra spaces)\n",
    "athlete_events_df.columns = athlete_events_df.columns.str.lower().str.strip()\n",
    "noc_regions_df.columns = noc_regions_df.columns.str.lower().str.strip()\n",
    "\n",
    "# Step 5: Convert data types where appropriate\n",
    "athlete_events_df['year'] = pd.to_numeric(athlete_events_df['year'], errors='coerce').fillna(0).astype(int)"
   ]
  },
  {
   "cell_type": "code",
   "execution_count": 6,
   "id": "a0b82fb3-4a7b-4213-b1d2-008e7a70cd93",
   "metadata": {},
   "outputs": [
    {
     "name": "stdout",
     "output_type": "stream",
     "text": [
      "Columns in athlete_events_df: Index(['ID', 'Name', 'Sex', 'Age', 'Height', 'Weight', 'Team', 'NOC', 'Games',\n",
      "       'Year', 'Season', 'City', 'Sport', 'Event', 'Medal'],\n",
      "      dtype='object')\n",
      "Columns in noc_regions_df: Index(['NOC', 'region', 'notes'], dtype='object')\n",
      "Missing Values in athlete_events_df:\n",
      "ID             1\n",
      "Name           1\n",
      "Sex            5\n",
      "Age        18325\n",
      "Height    117295\n",
      "Weight    122589\n",
      "Team          11\n",
      "NOC           14\n",
      "Games         14\n",
      "Year          18\n",
      "Season        19\n",
      "City          20\n",
      "Sport         20\n",
      "Event         24\n",
      "Medal     450520\n",
      "dtype: int64\n",
      "\n",
      "Missing Values in noc_regions_df:\n",
      "NOC         0\n",
      "region      3\n",
      "notes     209\n",
      "dtype: int64\n"
     ]
    }
   ],
   "source": [
    "import pandas as pd\n",
    "\n",
    "# Load CSV files with low_memory=False to avoid memory warnings\n",
    "athlete_events_df = pd.read_csv('athlete_events.csv', on_bad_lines='skip', low_memory=False)\n",
    "noc_regions_df = pd.read_csv('noc_regions.csv')\n",
    "\n",
    "# Print column names to confirm\n",
    "print(\"Columns in athlete_events_df:\", athlete_events_df.columns)\n",
    "print(\"Columns in noc_regions_df:\", noc_regions_df.columns)\n",
    "\n",
    "# Step 1: Check for missing values\n",
    "print(\"Missing Values in athlete_events_df:\")\n",
    "print(athlete_events_df.isnull().sum())\n",
    "\n",
    "print(\"\\nMissing Values in noc_regions_df:\")\n",
    "print(noc_regions_df.isnull().sum())\n",
    "\n",
    "# Step 2: Clean numeric columns before conversion\n",
    "# Remove any non-numeric characters if present\n",
    "athlete_events_df['Height'] = pd.to_numeric(athlete_events_df['Height'].astype(str).str.replace(r'\\D', ''), errors='coerce')\n",
    "athlete_events_df['Weight'] = pd.to_numeric(athlete_events_df['Weight'].astype(str).str.replace(r'\\D', ''), errors='coerce')\n",
    "athlete_events_df['Age'] = pd.to_numeric(athlete_events_df['Age'].astype(str).str.replace(r'\\D', ''), errors='coerce').fillna(0).astype(int)\n",
    "\n",
    "# Fill missing values in numeric columns\n",
    "athlete_events_df['Height'] = athlete_events_df['Height'].fillna(athlete_events_df['Height'].median())\n",
    "athlete_events_df['Weight'] = athlete_events_df['Weight'].fillna(athlete_events_df['Weight'].median())\n",
    "athlete_events_df['Medal'] = athlete_events_df['Medal'].fillna('None')\n",
    "\n",
    "# Drop rows with missing values in essential columns\n",
    "athlete_events_df.dropna(subset=['ID', 'Name', 'Sex', 'NOC', 'Games', 'Year', 'Season', 'City', 'Sport', 'Event'], inplace=True)\n",
    "noc_regions_df.dropna(subset=['region'], inplace=True)\n",
    "\n",
    "# Step 3: Remove duplicates in both datasets\n",
    "athlete_events_df.drop_duplicates(inplace=True)\n",
    "noc_regions_df.drop_duplicates(inplace=True)\n",
    "\n",
    "# Step 4: Standardize column names (making lowercase and removing extra spaces)\n",
    "athlete_events_df.columns = athlete_events_df.columns.str.lower().str.strip()\n",
    "noc_regions_df.columns = noc_regions_df.columns.str.lower().str.strip()\n",
    "\n",
    "\n"
   ]
  },
  {
   "cell_type": "code",
   "execution_count": 7,
   "id": "16a88cf1-4dba-4279-9fa3-5a37c45fe5d7",
   "metadata": {},
   "outputs": [
    {
     "name": "stdout",
     "output_type": "stream",
     "text": [
      "Columns in athlete_events_df: Index(['ID', 'Name', 'Sex', 'Age', 'Height', 'Weight', 'Team', 'NOC', 'Games',\n",
      "       'Year', 'Season', 'City', 'Sport', 'Event', 'Medal'],\n",
      "      dtype='object')\n",
      "Columns in noc_regions_df: Index(['NOC', 'region', 'notes'], dtype='object')\n",
      "Missing Values in athlete_events_df:\n",
      "ID             1\n",
      "Name           1\n",
      "Sex            5\n",
      "Age        18325\n",
      "Height    117295\n",
      "Weight    122589\n",
      "Team          11\n",
      "NOC           14\n",
      "Games         14\n",
      "Year          18\n",
      "Season        19\n",
      "City          20\n",
      "Sport         20\n",
      "Event         24\n",
      "Medal     450520\n",
      "dtype: int64\n",
      "\n",
      "Missing Values in noc_regions_df:\n",
      "NOC         0\n",
      "region      3\n",
      "notes     209\n",
      "dtype: int64\n"
     ]
    }
   ],
   "source": [
    "import pandas as pd\n",
    "import numpy as np\n",
    "\n",
    "# Load CSV files with low_memory=False to avoid memory warnings\n",
    "athlete_events_df = pd.read_csv('athlete_events.csv', on_bad_lines='skip', low_memory=False)\n",
    "noc_regions_df = pd.read_csv('noc_regions.csv')\n",
    "\n",
    "# Print column names to confirm\n",
    "print(\"Columns in athlete_events_df:\", athlete_events_df.columns)\n",
    "print(\"Columns in noc_regions_df:\", noc_regions_df.columns)\n",
    "\n",
    "# Step 1: Check for missing values\n",
    "print(\"Missing Values in athlete_events_df:\")\n",
    "print(athlete_events_df.isnull().sum())\n",
    "\n",
    "print(\"\\nMissing Values in noc_regions_df:\")\n",
    "print(noc_regions_df.isnull().sum())\n",
    "\n",
    "# Step 2: Fill missing values with NaN\n",
    "athlete_events_df.fillna(value=np.nan, inplace=True)\n",
    "noc_regions_df.fillna(value=np.nan, inplace=True)\n",
    "\n",
    "# Step 3: Remove duplicates in both datasets\n",
    "athlete_events_df.drop_duplicates(inplace=True)\n",
    "noc_regions_df.drop_duplicates(inplace=True)\n",
    "\n",
    "# Step 4: Standardize column names (making lowercase and removing extra spaces)\n",
    "athlete_events_df.columns = athlete_events_df.columns.str.lower().str.strip()\n",
    "noc_regions_df.columns = noc_regions_df.columns.str.lower().str.strip()"
   ]
  },
  {
   "cell_type": "code",
   "execution_count": 8,
   "id": "cc83a8bc-d1f9-4705-9295-884aa9a98dae",
   "metadata": {},
   "outputs": [
    {
     "name": "stdout",
     "output_type": "stream",
     "text": [
      "Columns in athlete_events_df: Index(['ID', 'Name', 'Sex', 'Age', 'Height', 'Weight', 'Team', 'NOC', 'Games',\n",
      "       'Year', 'Season', 'City', 'Sport', 'Event', 'Medal'],\n",
      "      dtype='object')\n",
      "Columns in noc_regions_df: Index(['NOC', 'region', 'notes'], dtype='object')\n",
      "Missing Values in athlete_events_df:\n",
      "ID             1\n",
      "Name           1\n",
      "Sex            5\n",
      "Age        18325\n",
      "Height    117295\n",
      "Weight    122589\n",
      "Team          11\n",
      "NOC           14\n",
      "Games         14\n",
      "Year          18\n",
      "Season        19\n",
      "City          20\n",
      "Sport         20\n",
      "Event         24\n",
      "Medal     450520\n",
      "dtype: int64\n",
      "\n",
      "Missing Values in noc_regions_df:\n",
      "NOC         0\n",
      "region      3\n",
      "notes     209\n",
      "dtype: int64\n"
     ]
    }
   ],
   "source": [
    "import pandas as pd\n",
    "import numpy as np\n",
    "\n",
    "# Load CSV files with low_memory=False to avoid memory warnings\n",
    "athlete_events_df = pd.read_csv('athlete_events.csv', on_bad_lines='skip', low_memory=False)\n",
    "noc_regions_df = pd.read_csv('noc_regions.csv')\n",
    "\n",
    "# Print column names to confirm\n",
    "print(\"Columns in athlete_events_df:\", athlete_events_df.columns)\n",
    "print(\"Columns in noc_regions_df:\", noc_regions_df.columns)\n",
    "\n",
    "# Step 1: Check for missing values\n",
    "print(\"Missing Values in athlete_events_df:\")\n",
    "print(athlete_events_df.isnull().sum())\n",
    "\n",
    "print(\"\\nMissing Values in noc_regions_df:\")\n",
    "print(noc_regions_df.isnull().sum())\n",
    "\n",
    "# Step 2: Clean and convert numeric columns\n",
    "def clean_and_convert(column):\n",
    "    # Replace any non-numeric characters and convert to numeric\n",
    "    column = pd.to_numeric(column.astype(str).str.replace(r'\\D', ''), errors='coerce')\n",
    "    return column\n",
    "\n",
    "# Clean and convert specific columns\n",
    "athlete_events_df['Age'] = clean_and_convert(athlete_events_df['Age'])\n",
    "athlete_events_df['Height'] = clean_and_convert(athlete_events_df['Height'])\n",
    "athlete_events_df['Weight'] = clean_and_convert(athlete_events_df['Weight'])\n",
    "\n",
    "# Fill missing values for numeric columns with median\n",
    "athlete_events_df['Age'] = athlete_events_df['Age'].fillna(athlete_events_df['Age'].median())\n",
    "athlete_events_df['Height'] = athlete_events_df['Height'].fillna(athlete_events_df['Height'].median())\n",
    "athlete_events_df['Weight'] = athlete_events_df['Weight'].fillna(athlete_events_df['Weight'].median())\n",
    "\n",
    "# For categorical columns, fill with 'Unknown' or appropriate placeholder\n",
    "athlete_events_df['Name'] = athlete_events_df['Name'].fillna('Unknown')\n",
    "athlete_events_df['Sex'] = athlete_events_df['Sex'].fillna('Unknown')\n",
    "athlete_events_df['Team'] = athlete_events_df['Team'].fillna('Unknown')\n",
    "\n",
    "# Drop rows with critical missing values\n",
    "athlete_events_df.dropna(subset=['ID', 'NOC', 'Games', 'Year', 'Season', 'City', 'Sport', 'Event'], inplace=True)\n",
    "\n",
    "# For noc_regions_df, fill missing 'region' and 'notes' appropriately\n",
    "noc_regions_df['region'] = noc_regions_df['region'].fillna('Unknown')\n",
    "noc_regions_df['notes'] = noc_regions_df['notes'].fillna('No Notes')\n",
    "\n",
    "# Step 3: Remove duplicates in both datasets\n",
    "athlete_events_df.drop_duplicates(inplace=True)\n",
    "noc_regions_df.drop_duplicates(inplace=True)\n",
    "\n",
    "# Step 4: Standardize column names (making lowercase and removing extra spaces)\n",
    "athlete_events_df.columns = athlete_events_df.columns.str.lower().str.strip()\n",
    "noc_regions_df.columns = noc_regions_df.columns.str.lower().str.strip()"
   ]
  },
  {
   "cell_type": "code",
   "execution_count": 9,
   "id": "876b26af-1c3a-4b72-aeb7-a090b365a70f",
   "metadata": {},
   "outputs": [
    {
     "name": "stdout",
     "output_type": "stream",
     "text": [
      "Columns in athlete_events_df: Index(['id', 'name', 'sex', 'age', 'height', 'weight', 'team', 'noc', 'games',\n",
      "       'year', 'season', 'city', 'sport', 'event', 'medal'],\n",
      "      dtype='object')\n"
     ]
    }
   ],
   "source": [
    "print(\"Columns in athlete_events_df:\", athlete_events_df.columns)\n"
   ]
  },
  {
   "cell_type": "code",
   "execution_count": 10,
   "id": "8432686c-9781-4a52-84af-127f5527fe67",
   "metadata": {},
   "outputs": [],
   "source": [
    "athlete_events_df.columns = athlete_events_df.columns.str.strip()\n"
   ]
  },
  {
   "cell_type": "code",
   "execution_count": 11,
   "id": "7be2f871-9f15-45a2-be43-46effa718aaf",
   "metadata": {},
   "outputs": [
    {
     "name": "stdout",
     "output_type": "stream",
     "text": [
      "Columns in athlete_events_df: Index(['id', 'name', 'sex', 'age', 'height', 'weight', 'team', 'noc', 'games',\n",
      "       'year', 'season', 'city', 'sport', 'event', 'medal'],\n",
      "      dtype='object')\n",
      "Updated Columns in athlete_events_df: Index(['id', 'name', 'sex', 'age', 'height', 'weight', 'team', 'noc', 'games',\n",
      "       'year', 'season', 'city', 'sport', 'event', 'medal'],\n",
      "      dtype='object')\n",
      "Column 'Age' not found in athlete_events_df.\n",
      "Column 'Height' not found in athlete_events_df.\n",
      "Column 'Weight' not found in athlete_events_df.\n"
     ]
    }
   ],
   "source": [
    "# Print the columns to see their names\n",
    "print(\"Columns in athlete_events_df:\", athlete_events_df.columns)\n",
    "\n",
    "# Strip spaces from column names\n",
    "athlete_events_df.columns = athlete_events_df.columns.str.strip()\n",
    "\n",
    "# After stripping spaces, check the columns again\n",
    "print(\"Updated Columns in athlete_events_df:\", athlete_events_df.columns)\n",
    "\n",
    "# Now attempt to fill missing values\n",
    "if 'Age' in athlete_events_df.columns:\n",
    "    athlete_events_df['Age'] = athlete_events_df['Age'].fillna(athlete_events_df['Age'].median())\n",
    "else:\n",
    "    print(\"Column 'Age' not found in athlete_events_df.\")\n",
    "\n",
    "if 'Height' in athlete_events_df.columns:\n",
    "    athlete_events_df['Height'] = athlete_events_df['Height'].fillna(athlete_events_df['Height'].median())\n",
    "else:\n",
    "    print(\"Column 'Height' not found in athlete_events_df.\")\n",
    "\n",
    "if 'Weight' in athlete_events_df.columns:\n",
    "    athlete_events_df['Weight'] = athlete_events_df['Weight'].fillna(athlete_events_df['Weight'].median())\n",
    "else:\n",
    "    print(\"Column 'Weight' not found in athlete_events_df.\")\n"
   ]
  },
  {
   "cell_type": "code",
   "execution_count": 24,
   "id": "ac8dcb59-0ed0-4ce1-a0cc-86fe2b6e30ae",
   "metadata": {},
   "outputs": [
    {
     "name": "stderr",
     "output_type": "stream",
     "text": [
      "C:\\Users\\mathew.j\\AppData\\Local\\Temp\\ipykernel_6016\\284460026.py:2: FutureWarning: A value is trying to be set on a copy of a DataFrame or Series through chained assignment using an inplace method.\n",
      "The behavior will change in pandas 3.0. This inplace method will never work because the intermediate object on which we are setting values always behaves as a copy.\n",
      "\n",
      "For example, when doing 'df[col].method(value, inplace=True)', try using 'df.method({col: value}, inplace=True)' or df[col] = df[col].method(value) instead, to perform the operation inplace on the original object.\n",
      "\n",
      "\n",
      "  athlete_events_df['age'].fillna(athlete_events_df['age'].median(), inplace=True)\n",
      "C:\\Users\\mathew.j\\AppData\\Local\\Temp\\ipykernel_6016\\284460026.py:3: FutureWarning: A value is trying to be set on a copy of a DataFrame or Series through chained assignment using an inplace method.\n",
      "The behavior will change in pandas 3.0. This inplace method will never work because the intermediate object on which we are setting values always behaves as a copy.\n",
      "\n",
      "For example, when doing 'df[col].method(value, inplace=True)', try using 'df.method({col: value}, inplace=True)' or df[col] = df[col].method(value) instead, to perform the operation inplace on the original object.\n",
      "\n",
      "\n",
      "  athlete_events_df['height'].fillna(athlete_events_df['height'].median(), inplace=True)\n",
      "C:\\Users\\mathew.j\\AppData\\Local\\Temp\\ipykernel_6016\\284460026.py:4: FutureWarning: A value is trying to be set on a copy of a DataFrame or Series through chained assignment using an inplace method.\n",
      "The behavior will change in pandas 3.0. This inplace method will never work because the intermediate object on which we are setting values always behaves as a copy.\n",
      "\n",
      "For example, when doing 'df[col].method(value, inplace=True)', try using 'df.method({col: value}, inplace=True)' or df[col] = df[col].method(value) instead, to perform the operation inplace on the original object.\n",
      "\n",
      "\n",
      "  athlete_events_df['weight'].fillna(athlete_events_df['weight'].median(), inplace=True)\n",
      "C:\\Users\\mathew.j\\AppData\\Local\\Temp\\ipykernel_6016\\284460026.py:7: FutureWarning: A value is trying to be set on a copy of a DataFrame or Series through chained assignment using an inplace method.\n",
      "The behavior will change in pandas 3.0. This inplace method will never work because the intermediate object on which we are setting values always behaves as a copy.\n",
      "\n",
      "For example, when doing 'df[col].method(value, inplace=True)', try using 'df.method({col: value}, inplace=True)' or df[col] = df[col].method(value) instead, to perform the operation inplace on the original object.\n",
      "\n",
      "\n",
      "  athlete_events_df['name'].fillna('Unknown', inplace=True)\n",
      "C:\\Users\\mathew.j\\AppData\\Local\\Temp\\ipykernel_6016\\284460026.py:8: FutureWarning: A value is trying to be set on a copy of a DataFrame or Series through chained assignment using an inplace method.\n",
      "The behavior will change in pandas 3.0. This inplace method will never work because the intermediate object on which we are setting values always behaves as a copy.\n",
      "\n",
      "For example, when doing 'df[col].method(value, inplace=True)', try using 'df.method({col: value}, inplace=True)' or df[col] = df[col].method(value) instead, to perform the operation inplace on the original object.\n",
      "\n",
      "\n",
      "  athlete_events_df['sex'].fillna('Unknown', inplace=True)\n",
      "C:\\Users\\mathew.j\\AppData\\Local\\Temp\\ipykernel_6016\\284460026.py:9: FutureWarning: A value is trying to be set on a copy of a DataFrame or Series through chained assignment using an inplace method.\n",
      "The behavior will change in pandas 3.0. This inplace method will never work because the intermediate object on which we are setting values always behaves as a copy.\n",
      "\n",
      "For example, when doing 'df[col].method(value, inplace=True)', try using 'df.method({col: value}, inplace=True)' or df[col] = df[col].method(value) instead, to perform the operation inplace on the original object.\n",
      "\n",
      "\n",
      "  athlete_events_df['team'].fillna('Unknown', inplace=True)\n"
     ]
    },
    {
     "name": "stdout",
     "output_type": "stream",
     "text": [
      "Missing Values in athlete_events_df after filling:\n",
      "id             0\n",
      "name           0\n",
      "sex            0\n",
      "age            0\n",
      "height         0\n",
      "weight         0\n",
      "team           0\n",
      "noc            0\n",
      "games          0\n",
      "year           0\n",
      "season         0\n",
      "city           0\n",
      "sport          0\n",
      "event          0\n",
      "medal     229951\n",
      "dtype: int64\n"
     ]
    }
   ],
   "source": [
    "# Fill missing values for 'age', 'height', and 'weight'\n",
    "athlete_events_df['age'].fillna(athlete_events_df['age'].median(), inplace=True)\n",
    "athlete_events_df['height'].fillna(athlete_events_df['height'].median(), inplace=True)\n",
    "athlete_events_df['weight'].fillna(athlete_events_df['weight'].median(), inplace=True)\n",
    "\n",
    "# Fill missing values for other relevant columns\n",
    "athlete_events_df['name'].fillna('Unknown', inplace=True)\n",
    "athlete_events_df['sex'].fillna('Unknown', inplace=True)\n",
    "athlete_events_df['team'].fillna('Unknown', inplace=True)\n",
    "\n",
    "# Display the missing values again to confirm they've been filled\n",
    "print(\"Missing Values in athlete_events_df after filling:\")\n",
    "print(athlete_events_df.isnull().sum())\n"
   ]
  },
  {
   "cell_type": "code",
   "execution_count": 12,
   "id": "c00303b4-135f-4f88-b1dd-568c31cdc503",
   "metadata": {},
   "outputs": [
    {
     "name": "stderr",
     "output_type": "stream",
     "text": [
      "C:\\Users\\mathew.j\\AppData\\Local\\Temp\\ipykernel_13880\\1050271766.py:1: FutureWarning: A value is trying to be set on a copy of a DataFrame or Series through chained assignment using an inplace method.\n",
      "The behavior will change in pandas 3.0. This inplace method will never work because the intermediate object on which we are setting values always behaves as a copy.\n",
      "\n",
      "For example, when doing 'df[col].method(value, inplace=True)', try using 'df.method({col: value}, inplace=True)' or df[col] = df[col].method(value) instead, to perform the operation inplace on the original object.\n",
      "\n",
      "\n",
      "  athlete_events_df['medal'].fillna('No Medal', inplace=True)\n"
     ]
    }
   ],
   "source": [
    "athlete_events_df['medal'].fillna('No Medal', inplace=True)\n"
   ]
  },
  {
   "cell_type": "code",
   "execution_count": 13,
   "id": "22e63f6f-a8e9-4f91-a7fa-9dcccc40832c",
   "metadata": {},
   "outputs": [],
   "source": [
    "athlete_events_df.dropna(subset=['medal'], inplace=True)\n"
   ]
  },
  {
   "cell_type": "code",
   "execution_count": 14,
   "id": "f6028abc-52d7-4da2-aef9-6b3ead933253",
   "metadata": {},
   "outputs": [
    {
     "name": "stderr",
     "output_type": "stream",
     "text": [
      "C:\\Users\\mathew.j\\AppData\\Local\\Temp\\ipykernel_13880\\1415272887.py:2: FutureWarning: A value is trying to be set on a copy of a DataFrame or Series through chained assignment using an inplace method.\n",
      "The behavior will change in pandas 3.0. This inplace method will never work because the intermediate object on which we are setting values always behaves as a copy.\n",
      "\n",
      "For example, when doing 'df[col].method(value, inplace=True)', try using 'df.method({col: value}, inplace=True)' or df[col] = df[col].method(value) instead, to perform the operation inplace on the original object.\n",
      "\n",
      "\n",
      "  athlete_events_df['medal'].fillna('No Medal', inplace=True)\n"
     ]
    },
    {
     "name": "stdout",
     "output_type": "stream",
     "text": [
      "Missing Values in athlete_events_df after filling medal column:\n",
      "id        0\n",
      "name      0\n",
      "sex       0\n",
      "age       0\n",
      "height    0\n",
      "weight    0\n",
      "team      0\n",
      "noc       0\n",
      "games     0\n",
      "year      0\n",
      "season    0\n",
      "city      0\n",
      "sport     0\n",
      "event     0\n",
      "medal     0\n",
      "dtype: int64\n"
     ]
    }
   ],
   "source": [
    "# Fill missing values in the 'medal' column\n",
    "athlete_events_df['medal'].fillna('No Medal', inplace=True)\n",
    "\n",
    "# Check again for missing values\n",
    "print(\"Missing Values in athlete_events_df after filling medal column:\")\n",
    "print(athlete_events_df.isnull().sum())\n"
   ]
  },
  {
   "cell_type": "code",
   "execution_count": 15,
   "id": "544dee67-445f-4d1a-b496-fc1df20aee54",
   "metadata": {},
   "outputs": [],
   "source": [
    "merged_df = athlete_events_df.merge(noc_regions_df, on='noc', how='left')\n"
   ]
  },
  {
   "cell_type": "code",
   "execution_count": 16,
   "id": "19452bc2-682d-4a20-8519-edcbbf64d25d",
   "metadata": {},
   "outputs": [],
   "source": [
    "athlete_events_df.to_csv('cleaned_athlete_events.csv', index=False)\n"
   ]
  },
  {
   "cell_type": "code",
   "execution_count": 17,
   "id": "2844cadf-13bf-474a-b8c5-7ff6710b1a64",
   "metadata": {},
   "outputs": [],
   "source": [
    "# Save cleaned DataFrames\n",
    "athlete_events_df.to_csv('cleaned_athlete_events.csv', index=False)\n",
    "noc_regions_df.to_csv('cleaned_noc_regions.csv', index=False)\n",
    "\n",
    "# If you merged them\n",
    "merged_df.to_csv('cleaned_merged_data.csv', index=False)\n"
   ]
  },
  {
   "cell_type": "code",
   "execution_count": null,
   "id": "f796c981-d37d-45e5-ae00-a104b9756811",
   "metadata": {},
   "outputs": [],
   "source": []
  }
 ],
 "metadata": {
  "kernelspec": {
   "display_name": "Python 3 (ipykernel)",
   "language": "python",
   "name": "python3"
  },
  "language_info": {
   "codemirror_mode": {
    "name": "ipython",
    "version": 3
   },
   "file_extension": ".py",
   "mimetype": "text/x-python",
   "name": "python",
   "nbconvert_exporter": "python",
   "pygments_lexer": "ipython3",
   "version": "3.12.6"
  }
 },
 "nbformat": 4,
 "nbformat_minor": 5
}
