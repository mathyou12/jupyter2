{
 "cells": [
  {
   "cell_type": "code",
   "execution_count": 1,
   "id": "6428ca2e-2b02-429b-9c36-5081aea4e8be",
   "metadata": {},
   "outputs": [],
   "source": [
    "import pandas as pd\n",
    "\n",
    "# Read the CSV files\n",
    "goalscorers_df = pd.read_csv('goalscorers.csv')\n",
    "results_df = pd.read_csv('results.csv')\n",
    "shootouts_df = pd.read_csv('shootouts.csv')\n"
   ]
  },
  {
   "cell_type": "code",
   "execution_count": 2,
   "id": "cabb34e8-a572-437f-83d0-ce8bcc5cbcdf",
   "metadata": {},
   "outputs": [
    {
     "name": "stdout",
     "output_type": "stream",
     "text": [
      "Goalscorers Data:\n",
      "         date  home_team away_team       team            scorer  minute  \\\n",
      "0  1916-07-02      Chile   Uruguay    Uruguay   José Piendibene    44.0   \n",
      "1  1916-07-02      Chile   Uruguay    Uruguay  Isabelino Gradín    55.0   \n",
      "2  1916-07-02      Chile   Uruguay    Uruguay  Isabelino Gradín    70.0   \n",
      "3  1916-07-02      Chile   Uruguay    Uruguay   José Piendibene    75.0   \n",
      "4  1916-07-06  Argentina     Chile  Argentina     Alberto Ohaco     2.0   \n",
      "\n",
      "   own_goal  penalty  \n",
      "0     False    False  \n",
      "1     False    False  \n",
      "2     False    False  \n",
      "3     False    False  \n",
      "4     False    False  \n",
      "\n",
      "Results Data:\n",
      "         date home_team away_team  home_score  away_score tournament     city  \\\n",
      "0  1872-11-30  Scotland   England           0           0   Friendly  Glasgow   \n",
      "1  1873-03-08   England  Scotland           4           2   Friendly   London   \n",
      "2  1874-03-07  Scotland   England           2           1   Friendly  Glasgow   \n",
      "3  1875-03-06   England  Scotland           2           2   Friendly   London   \n",
      "4  1876-03-04  Scotland   England           3           0   Friendly  Glasgow   \n",
      "\n",
      "    country  neutral  \n",
      "0  Scotland    False  \n",
      "1   England    False  \n",
      "2  Scotland    False  \n",
      "3   England    False  \n",
      "4  Scotland    False  \n",
      "\n",
      "Shootouts Data:\n",
      "         date    home_team         away_team       winner first_shooter\n",
      "0  1967-08-22        India            Taiwan       Taiwan           NaN\n",
      "1  1971-11-14  South Korea  Vietnam Republic  South Korea           NaN\n",
      "2  1972-05-07  South Korea              Iraq         Iraq           NaN\n",
      "3  1972-05-17     Thailand       South Korea  South Korea           NaN\n",
      "4  1972-05-19     Thailand          Cambodia     Thailand           NaN\n"
     ]
    }
   ],
   "source": [
    "# Display the first few rows of each dataframe to verify the data\n",
    "print(\"Goalscorers Data:\")\n",
    "print(goalscorers_df.head())\n",
    "\n",
    "print(\"\\nResults Data:\")\n",
    "print(results_df.head())\n",
    "\n",
    "print(\"\\nShootouts Data:\")\n",
    "print(shootouts_df.head())\n"
   ]
  },
  {
   "cell_type": "code",
   "execution_count": 6,
   "id": "9f8ccd69-0f80-42a9-b91d-ef83a4f45a60",
   "metadata": {},
   "outputs": [],
   "source": [
    "#Cleaning goalscorers_df\n",
    "# Renaming columns for consistency\n",
    "goalscorers_df.columns = ['date', 'home_team', 'away_team', 'team', 'scorer', 'minute', 'own_goal', 'penalty']"
   ]
  },
  {
   "cell_type": "code",
   "execution_count": 7,
   "id": "f7caecbe-77de-4584-9ea8-52443b0c8b36",
   "metadata": {},
   "outputs": [],
   "source": [
    "# Converting 'date' to datetime format\n",
    "goalscorers_df['date'] = pd.to_datetime(goalscorers_df['date'], errors='coerce')"
   ]
  },
  {
   "cell_type": "code",
   "execution_count": 8,
   "id": "62df4474-abab-49e5-b9f6-39c1faf744e5",
   "metadata": {},
   "outputs": [],
   "source": [
    "# Removing duplicates\n",
    "goalscorers_df.drop_duplicates(inplace=True)"
   ]
  },
  {
   "cell_type": "code",
   "execution_count": 9,
   "id": "5a04df2f-2814-45c0-b2f1-6a36bbfecf04",
   "metadata": {},
   "outputs": [],
   "source": [
    "# Handling missing values\n",
    "goalscorers_df.dropna(inplace=True)  # Alternatively, you can fill missing values\n"
   ]
  },
  {
   "cell_type": "code",
   "execution_count": 10,
   "id": "616f74c6-2179-463c-9eac-4a063b132aa3",
   "metadata": {},
   "outputs": [],
   "source": [
    "# Cleaning results_df\n",
    "# Renaming columns for consistency\n",
    "results_df.columns = ['date', 'home_team', 'away_team', 'home_score', 'away_score', 'tournament', 'city', 'country', 'neutral']\n"
   ]
  },
  {
   "cell_type": "code",
   "execution_count": 11,
   "id": "84ecd86d-727b-470a-8e81-166b8b2d3c83",
   "metadata": {},
   "outputs": [],
   "source": [
    "# Converting 'date' to datetime format\n",
    "results_df['date'] = pd.to_datetime(results_df['date'], errors='coerce')"
   ]
  },
  {
   "cell_type": "code",
   "execution_count": 12,
   "id": "3c19c1a9-2441-4d77-b7e8-31fa5043edc3",
   "metadata": {},
   "outputs": [],
   "source": [
    "# Removing duplicates\n",
    "results_df.drop_duplicates(inplace=True)"
   ]
  },
  {
   "cell_type": "code",
   "execution_count": 13,
   "id": "45474ecd-25ea-4ea9-8180-aa2d9db8c532",
   "metadata": {},
   "outputs": [],
   "source": [
    "# Handling missing values\n",
    "results_df.dropna(inplace=True)"
   ]
  },
  {
   "cell_type": "code",
   "execution_count": 14,
   "id": "bbafb9e9-65f6-4d55-a53f-3cda221a9769",
   "metadata": {},
   "outputs": [],
   "source": [
    "# Cleaning shootouts_df\n",
    "# Renaming columns for consistency\n",
    "shootouts_df.columns = ['date', 'home_team', 'away_team', 'winner', 'first_shooter']\n"
   ]
  },
  {
   "cell_type": "code",
   "execution_count": 15,
   "id": "1ee863ea-eee8-47e5-b464-1565ae25b061",
   "metadata": {},
   "outputs": [],
   "source": [
    "# Converting 'date' to datetime format\n",
    "shootouts_df['date'] = pd.to_datetime(shootouts_df['date'], errors='coerce')"
   ]
  },
  {
   "cell_type": "code",
   "execution_count": 16,
   "id": "14ed4185-376c-4379-bdd3-68c4ab546d75",
   "metadata": {},
   "outputs": [],
   "source": [
    "# Removing duplicates\n",
    "shootouts_df.drop_duplicates(inplace=True)\n"
   ]
  },
  {
   "cell_type": "code",
   "execution_count": 17,
   "id": "9228f716-cf23-4991-b3cd-4f66755bc5e0",
   "metadata": {},
   "outputs": [],
   "source": [
    "# Handling missing values\n",
    "shootouts_df.dropna(inplace=True)"
   ]
  },
  {
   "cell_type": "code",
   "execution_count": 18,
   "id": "1e4c937d-7661-4514-80b5-5f9d5584a228",
   "metadata": {},
   "outputs": [
    {
     "name": "stdout",
     "output_type": "stream",
     "text": [
      "\n",
      "After Cleaning:\n",
      "Goalscorers Data:\n",
      "        date  home_team away_team       team            scorer  minute  \\\n",
      "0 1916-07-02      Chile   Uruguay    Uruguay   José Piendibene    44.0   \n",
      "1 1916-07-02      Chile   Uruguay    Uruguay  Isabelino Gradín    55.0   \n",
      "2 1916-07-02      Chile   Uruguay    Uruguay  Isabelino Gradín    70.0   \n",
      "3 1916-07-02      Chile   Uruguay    Uruguay   José Piendibene    75.0   \n",
      "4 1916-07-06  Argentina     Chile  Argentina     Alberto Ohaco     2.0   \n",
      "\n",
      "   own_goal  penalty  \n",
      "0     False    False  \n",
      "1     False    False  \n",
      "2     False    False  \n",
      "3     False    False  \n",
      "4     False    False  \n",
      "\n",
      "Results Data:\n",
      "        date home_team away_team  home_score  away_score tournament     city  \\\n",
      "0 1872-11-30  Scotland   England           0           0   Friendly  Glasgow   \n",
      "1 1873-03-08   England  Scotland           4           2   Friendly   London   \n",
      "2 1874-03-07  Scotland   England           2           1   Friendly  Glasgow   \n",
      "3 1875-03-06   England  Scotland           2           2   Friendly   London   \n",
      "4 1876-03-04  Scotland   England           3           0   Friendly  Glasgow   \n",
      "\n",
      "    country  neutral  \n",
      "0  Scotland    False  \n",
      "1   England    False  \n",
      "2  Scotland    False  \n",
      "3   England    False  \n",
      "4  Scotland    False  \n",
      "\n",
      "Shootouts Data:\n",
      "         date       home_team       away_team          winner   first_shooter\n",
      "26 1976-06-20  Czechoslovakia         Germany  Czechoslovakia  Czechoslovakia\n",
      "36 1979-05-22       Argentina     Netherlands       Argentina       Argentina\n",
      "41 1980-06-21           Italy  Czechoslovakia  Czechoslovakia           Italy\n",
      "53 1982-07-08         Germany          France         Germany          France\n",
      "71 1984-06-24         Denmark           Spain           Spain         Denmark\n"
     ]
    }
   ],
   "source": [
    "# Display the cleaned data\n",
    "print(\"\\nAfter Cleaning:\")\n",
    "print(\"Goalscorers Data:\")\n",
    "print(goalscorers_df.head())\n",
    "print(\"\\nResults Data:\")\n",
    "print(results_df.head())\n",
    "print(\"\\nShootouts Data:\")\n",
    "print(shootouts_df.head())"
   ]
  },
  {
   "cell_type": "code",
   "execution_count": 19,
   "id": "f5197c8e-1e9a-4ccb-ba1c-1ff153c0355d",
   "metadata": {},
   "outputs": [
    {
     "name": "stdout",
     "output_type": "stream",
     "text": [
      "\n",
      "Missing Values After Cleaning:\n",
      "Goalscorers Data:\n",
      "date         0\n",
      "home_team    0\n",
      "away_team    0\n",
      "team         0\n",
      "scorer       0\n",
      "minute       0\n",
      "own_goal     0\n",
      "penalty      0\n",
      "dtype: int64\n",
      "\n",
      "Results Data:\n",
      "date          0\n",
      "home_team     0\n",
      "away_team     0\n",
      "home_score    0\n",
      "away_score    0\n",
      "tournament    0\n",
      "city          0\n",
      "country       0\n",
      "neutral       0\n",
      "dtype: int64\n",
      "\n",
      "Shootouts Data:\n",
      "date             0\n",
      "home_team        0\n",
      "away_team        0\n",
      "winner           0\n",
      "first_shooter    0\n",
      "dtype: int64\n"
     ]
    }
   ],
   "source": [
    "# Check for missing values after cleaning\n",
    "print(\"\\nMissing Values After Cleaning:\")\n",
    "print(\"Goalscorers Data:\")\n",
    "print(goalscorers_df.isnull().sum())\n",
    "print(\"\\nResults Data:\")\n",
    "print(results_df.isnull().sum())\n",
    "print(\"\\nShootouts Data:\")\n",
    "print(shootouts_df.isnull().sum())"
   ]
  },
  {
   "cell_type": "code",
   "execution_count": 20,
   "id": "57857fa7-f288-4cff-a0a2-6734f94ba42f",
   "metadata": {},
   "outputs": [
    {
     "name": "stdout",
     "output_type": "stream",
     "text": [
      "\n",
      "Data Types Before Cleaning:\n",
      "Goalscorers Data:\n",
      "date         datetime64[ns]\n",
      "home_team            object\n",
      "away_team            object\n",
      "team                 object\n",
      "scorer               object\n",
      "minute              float64\n",
      "own_goal               bool\n",
      "penalty                bool\n",
      "dtype: object\n",
      "\n",
      "Results Data:\n",
      "date          datetime64[ns]\n",
      "home_team             object\n",
      "away_team             object\n",
      "home_score             int64\n",
      "away_score             int64\n",
      "tournament            object\n",
      "city                  object\n",
      "country               object\n",
      "neutral                 bool\n",
      "dtype: object\n",
      "\n",
      "Shootouts Data:\n",
      "date             datetime64[ns]\n",
      "home_team                object\n",
      "away_team                object\n",
      "winner                   object\n",
      "first_shooter            object\n",
      "dtype: object\n"
     ]
    }
   ],
   "source": [
    "# Display data types before cleaning\n",
    "print(\"\\nData Types Before Cleaning:\")\n",
    "print(\"Goalscorers Data:\")\n",
    "print(goalscorers_df.dtypes)\n",
    "print(\"\\nResults Data:\")\n",
    "print(results_df.dtypes)\n",
    "print(\"\\nShootouts Data:\")\n",
    "print(shootouts_df.dtypes)"
   ]
  },
  {
   "cell_type": "code",
   "execution_count": 21,
   "id": "46268c9e-aa0d-4e38-9521-958859af3a4c",
   "metadata": {},
   "outputs": [
    {
     "name": "stdout",
     "output_type": "stream",
     "text": [
      "                                date        minute\n",
      "count                          44092  44092.000000\n",
      "mean   1997-07-10 02:26:44.209380352     50.007439\n",
      "min              1916-07-02 00:00:00      1.000000\n",
      "25%              1986-06-29 00:00:00     28.000000\n",
      "50%              2002-06-14 12:00:00     51.000000\n",
      "75%              2013-10-11 00:00:00     73.000000\n",
      "max              2024-07-14 00:00:00    122.000000\n",
      "std                              NaN     26.357128\n",
      "                                date    home_score    away_score\n",
      "count                          47777  47777.000000  47777.000000\n",
      "mean   1993-05-16 02:57:45.952236416      1.757896      1.181636\n",
      "min              1872-11-30 00:00:00      0.000000      0.000000\n",
      "25%              1979-09-26 00:00:00      1.000000      0.000000\n",
      "50%              1999-10-09 00:00:00      1.000000      1.000000\n",
      "75%              2012-06-03 00:00:00      2.000000      2.000000\n",
      "max              2024-10-15 00:00:00     31.000000     21.000000\n",
      "std                              NaN      1.772524      1.399827\n",
      "                                date\n",
      "count                            230\n",
      "mean   2010-07-12 10:32:20.869565184\n",
      "min              1976-06-20 00:00:00\n",
      "25%              2000-02-14 12:00:00\n",
      "50%              2013-06-28 12:00:00\n",
      "75%              2021-07-17 12:00:00\n",
      "max              2024-07-13 00:00:00\n"
     ]
    }
   ],
   "source": [
    "print(goalscorers_df.describe())\n",
    "print(results_df.describe())\n",
    "print(shootouts_df.describe())\n"
   ]
  },
  {
   "cell_type": "code",
   "execution_count": 22,
   "id": "fc8f7bc5-c54e-4de4-b889-383cea29812b",
   "metadata": {},
   "outputs": [
    {
     "data": {
      "image/png": "[encoded data removed]",
      "text/plain": [
       "<Figure size 640x480 with 1 Axes>"
      ]
     },
     "metadata": {},
     "output_type": "display_data"
    }
   ],
   "source": [
    "import matplotlib.pyplot as plt\n",
    "\n",
    "# Example: Top scorers\n",
    "top_scorers = goalscorers_df['scorer'].value_counts().head(10)\n",
    "plt.bar(top_scorers.index, top_scorers.values)\n",
    "plt.title('Top 10 Scorers')\n",
    "plt.xlabel('Scorer')\n",
    "plt.ylabel('Number of Goals')\n",
    "plt.xticks(rotation=45)\n",
    "plt.show()\n"
   ]
  },
  {
   "cell_type": "code",
   "execution_count": 23,
   "id": "336a4cde-2ec0-4bce-8ebf-f460b545eacc",
   "metadata": {},
   "outputs": [],
   "source": [
    "merged_df = pd.merge(goalscorers_df, results_df, on=['date', 'home_team', 'away_team'], how='inner')\n"
   ]
  },
  {
   "cell_type": "code",
   "execution_count": 24,
   "id": "1c7d4e0a-9d79-4364-9943-2c7ca5307189",
   "metadata": {},
   "outputs": [],
   "source": [
    "goalscorers_df.to_csv('cleaned_goalscorers.csv', index=False)\n",
    "results_df.to_csv('cleaned_results.csv', index=False)\n",
    "shootouts_df.to_csv('cleaned_shootouts.csv', index=False)\n"
   ]
  },
  {
   "cell_type": "code",
   "execution_count": 1,
   "id": "cf48c654-3ac7-42c0-b110-c3fd5377fe5f",
   "metadata": {},
   "outputs": [],
   "source": [
    "import pandas as pd\n",
    "\n",
    "# Load the cleaned CSV files\n",
    "goalscorers_df = pd.read_csv('cleaned_goalscorers.csv')\n",
    "results_df = pd.read_csv('cleaned_results.csv')\n",
    "shootouts_df = pd.read_csv('cleaned_shootouts.csv')\n",
    "\n",
    "# Merge goalscorers with results based on date and teams\n",
    "merged_df = pd.merge(goalscorers_df, results_df, on=['date', 'home_team', 'away_team'], how='outer')\n",
    "\n",
    "# Further merge with shootouts\n",
    "final_df = pd.merge(merged_df, shootouts_df, on=['date', 'home_team', 'away_team'], how='outer')\n",
    "\n",
    "# Save the final combined DataFrame\n",
    "final_df.to_csv('combined_data.csv', index=False)\n"
   ]
  },
  {
   "cell_type": "code",
   "execution_count": null,
   "id": "becb407c-fee6-4d11-a6a6-85b9ca6bd47d",
   "metadata": {},
   "outputs": [],
   "source": []
  }
 ],
 "metadata": {
  "kernelspec": {
   "display_name": "Python 3 (ipykernel)",
   "language": "python",
   "name": "python3"
  },
  "language_info": {
   "codemirror_mode": {
    "name": "ipython",
    "version": 3
   },
   "file_extension": ".py",
   "mimetype": "text/x-python",
   "name": "python",
   "nbconvert_exporter": "python",
   "pygments_lexer": "ipython3",
   "version": "3.12.6"
  }
 },
 "nbformat": 4,
 "nbformat_minor": 5
}
